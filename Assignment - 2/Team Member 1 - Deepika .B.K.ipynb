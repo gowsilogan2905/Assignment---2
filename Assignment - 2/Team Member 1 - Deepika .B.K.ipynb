{
  "nbformat": 4,
  "nbformat_minor": 0,
  "metadata": {
    "colab": {
      "provenance": []
    },
    "kernelspec": {
      "name": "python3",
      "display_name": "Python 3"
    },
    "language_info": {
      "name": "python"
    }
  },
  "cells": [
    {
      "cell_type": "code",
      "execution_count": 4,
      "metadata": {
        "colab": {
          "base_uri": "https://localhost:8080/"
        },
        "id": "FVcPWiEUB1rY",
        "outputId": "d0265390-b962-429a-f113-fa68ec830a74"
      },
      "outputs": [
        {
          "output_type": "stream",
          "name": "stdout",
          "text": [
            "67\n",
            "60\n",
            "Temperature and Humidity are HIGH!!! \n",
            "**ALARM ON**\n"
          ]
        }
      ],
      "source": [
        "import random\n",
        "Temperature=random.randint(1,100)\n",
        "Humidity=random.randint(1,100)\n",
        "print(Temperature)\n",
        "print(Humidity)\n",
        "if((Temperature>30)&(Humidity>40)):\n",
        "    print(\"Temperature and Humidity are HIGH!!! \")\n",
        "    print(\"**ALARM ON**\")\n",
        "else:\n",
        "    print(\"Temperature and Humidity are NORMAL!!! \")\n",
        "    print(\"**ALARM OFF**\")"
      ]
    }
  ]
}